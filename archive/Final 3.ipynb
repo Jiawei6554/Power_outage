{
 "cells": [
  {
   "cell_type": "markdown",
   "metadata": {},
   "source": [
    "# Predicting Major Power Outages\n",
    "\n",
    "**Jiawei Yang, Zhixing Jiang**"
   ]
  },
  {
   "cell_type": "markdown",
   "metadata": {},
   "source": [
    "## Summary of Findings\n",
    "\n",
    "\n",
    "### Introduction\n",
    "TODO\n",
    "\n",
    "### Baseline Model\n",
    "TODO\n",
    "\n",
    "### Final Model\n",
    "TODO\n",
    "\n",
    "### Fairness Analysis\n",
    "TODO"
   ]
  },
  {
   "cell_type": "markdown",
   "metadata": {},
   "source": [
    "### Introduction\n",
    "Based on the dataset of major power outages happened in the United State during recent years, our ultimate goal in thsi project is to predict the durtaion of the power outage given various characteristics that pertain to directly to the specific instance of power outage and indirectly to the area where the outage takes place.\n",
    "\n",
    "We chose the response variable to be `outage.duration`: a continous varaible with in the unit of minutes. We chose it since it accurately quantify the length of duration of outages and is given in the data set (compared to other possible option such as duration recorded in days, which means a drop in granularity of our model)\n",
    "\n",
    "Since we attempt to predict a continous outcome, we use regression-based algorithm to build the model: we end up using decision tree regression after comparing it to KNN regression and linear regression. Therefore, we use two main metrics to evaluate the performance of our model: Mean Squared Error and R-squared."
   ]
  },
  {
   "cell_type": "markdown",
   "metadata": {},
   "source": [
    "### Baseline Model\n",
    "In the prediction process, we assume that the model is used to predict the duration of a power outage right after the happening of that power outage. Therefore the following features from the original data set could not be used as input variables, since they are by natural unobserved at the point of outage happenings:\n",
    "1. The end time of outage: this directly tells you the outage durtaion.\n",
    "2. The number of customer affacted: we assume this statistic is collected/estiamted at least some time after one outage happening.\n",
    "\n",
    "We include the following features in the model:\n",
    "1. State: the state in which the outage took place, originally recorded as categorical strings with 50+ levels. (One-hot encoded in the model)\n",
    "2. Cause: the description of cause of outage, originally recorded as categorical stirngs with 20+ levels. (One-hot encoded in the model) One may argue the cause or reason of the outage is not revealed immediately after the outage happening. (Since it may take time for the company to investigate) We are aware of such potential draw back, but decided to include this feature in the model assuming the company would know right away why an outage happens.\n",
    "3. Cause Detail: the detail description of the cause in cateogory, orginally recorded as cartegorical strings with 50+ levels(One-hot encoded in the model). We are choosing this feature in the model also assuming the company would know right away because incidents like heavy wind or winter storm are easily spotted.\n",
    "\n",
    "We use train-test split and cross validation to pick the model that maximize both in-sample and out-of-sample performance: specifically, we pick the best hyperparameter, max depth, of the prediction tree based on R-sqaured."
   ]
  },
  {
   "cell_type": "markdown",
   "metadata": {},
   "source": [
    "### Final Model\n",
    "On top of the features present in the baseline model, we include the following three features in the final model, hoping to improve performance. The additional features are results of feature engineering based on both information recorded in the model and additional data we collected (during project 3). Feature engineering is done by `ColumnTransformer` classes we define.\n",
    "\n",
    "We believe that extreme weather could hinder the process of restoring a power outage and therefore influence the duration of power outage. We further specify 'extreme weather' to be hot summer and cold winder by encoding the power outages with the following two features.\n",
    "\n",
    "1. `hot_summer`: a binary encoding, `True` if the power outage took place both:\n",
    "<br>\n",
    "$\\;\\;\\;\\;\\;\\;$   in one of the months: June, July or August\n",
    "<br>\n",
    "$\\;\\;\\;\\;\\;\\;$   in a state where the average summer temperature is above xx degree celsius.\n",
    "2. `cold_winter`: a  binary encoding, `True` if the power outage took place both:\n",
    "<br>\n",
    "$\\;\\;\\;\\;\\;\\;$   in one of the months: December, January or February\n",
    "<br>\n",
    "$\\;\\;\\;\\;\\;\\;$   in a state where the average winter temperature is below 0 degree celsius.\n",
    "\n",
    "In addition, we introduce another feature from the orginal dataset \"outage.start.time\". However, we believe that we cannot treat it as continuous, so we created a function to discretize the column. We split the day into four periods of time: Morning (5 am to 12 pm), Afternoon (12 pm to 5 pm), Evening (5 pm to 9 pm), and Night (9 pm to 4 am).\n",
    "\n",
    "During our exploratory "
   ]
  },
  {
   "cell_type": "markdown",
   "metadata": {},
   "source": [
    "## Code"
   ]
  },
  {
   "cell_type": "code",
   "execution_count": 1,
   "metadata": {},
   "outputs": [],
   "source": [
    "import matplotlib.pyplot as plt\n",
    "import numpy as np\n",
    "import os\n",
    "import pandas as pd\n",
    "import seaborn as sns\n",
    "%config InlineBackend.figure_format = 'retina'  # Higher resolution figures"
   ]
  },
  {
   "cell_type": "markdown",
   "metadata": {},
   "source": [
    "### Load and Cleaning"
   ]
  },
  {
   "cell_type": "code",
   "execution_count": 20,
   "metadata": {},
   "outputs": [
    {
     "data": {
      "text/plain": [
       "Index(['obs', 'year', 'month', 'u.s._state', 'postal.code', 'nerc.region',\n",
       "       'climate.region', 'anomaly.level', 'climate.category',\n",
       "       'outage.start.date', 'outage.start.time', 'outage.restoration.date',\n",
       "       'outage.restoration.time', 'cause.category', 'cause.category.detail',\n",
       "       'hurricane.names', 'outage.duration', 'demand.loss.mw',\n",
       "       'customers.affected', 'res.price', 'com.price', 'ind.price',\n",
       "       'total.price', 'res.sales', 'com.sales', 'ind.sales', 'total.sales',\n",
       "       'res.percen', 'com.percen', 'ind.percen', 'res.customers',\n",
       "       'com.customers', 'ind.customers', 'total.customers', 'res.cust.pct',\n",
       "       'com.cust.pct', 'ind.cust.pct', 'pc.realgsp.state', 'pc.realgsp.usa',\n",
       "       'pc.realgsp.rel', 'pc.realgsp.change', 'util.realgsp', 'total.realgsp',\n",
       "       'util.contri', 'pi.util.ofusa', 'population', 'poppct_urban',\n",
       "       'poppct_uc', 'popden_urban', 'popden_uc', 'popden_rural',\n",
       "       'areapct_urban', 'areapct_uc', 'pct_land', 'pct_water_tot',\n",
       "       'pct_water_inland'],\n",
       "      dtype='object')"
      ]
     },
     "execution_count": 20,
     "metadata": {},
     "output_type": "execute_result"
    }
   ],
   "source": [
    "#Convert all column names to lower case\n",
    "outage_org = pd.read_excel('outage.csv')\n",
    "outage_org.columns = [t.lower() for t in outage_org.columns]\n",
    "outage_org.columns"
   ]
  },
  {
   "cell_type": "code",
   "execution_count": 21,
   "metadata": {},
   "outputs": [],
   "source": [
    "def remove_na(df):\n",
    "    return df.loc[~df.isna().any(axis = 1).values]"
   ]
  },
  {
   "cell_type": "code",
   "execution_count": 22,
   "metadata": {},
   "outputs": [
    {
     "data": {
      "text/html": [
       "<div>\n",
       "<style scoped>\n",
       "    .dataframe tbody tr th:only-of-type {\n",
       "        vertical-align: middle;\n",
       "    }\n",
       "\n",
       "    .dataframe tbody tr th {\n",
       "        vertical-align: top;\n",
       "    }\n",
       "\n",
       "    .dataframe thead th {\n",
       "        text-align: right;\n",
       "    }\n",
       "</style>\n",
       "<table border=\"1\" class=\"dataframe\">\n",
       "  <thead>\n",
       "    <tr style=\"text-align: right;\">\n",
       "      <th></th>\n",
       "      <th>u.s._state</th>\n",
       "      <th>cause.category</th>\n",
       "      <th>outage.duration</th>\n",
       "      <th>outage.start.time</th>\n",
       "      <th>cause.category.detail</th>\n",
       "    </tr>\n",
       "  </thead>\n",
       "  <tbody>\n",
       "    <tr>\n",
       "      <th>0</th>\n",
       "      <td>Minnesota</td>\n",
       "      <td>intentional attack</td>\n",
       "      <td>1.0</td>\n",
       "      <td>18:38:00</td>\n",
       "      <td>vandalism</td>\n",
       "    </tr>\n",
       "    <tr>\n",
       "      <th>1</th>\n",
       "      <td>Minnesota</td>\n",
       "      <td>severe weather</td>\n",
       "      <td>3000.0</td>\n",
       "      <td>20:00:00</td>\n",
       "      <td>heavy wind</td>\n",
       "    </tr>\n",
       "    <tr>\n",
       "      <th>2</th>\n",
       "      <td>Minnesota</td>\n",
       "      <td>severe weather</td>\n",
       "      <td>2550.0</td>\n",
       "      <td>04:30:00</td>\n",
       "      <td>thunderstorm</td>\n",
       "    </tr>\n",
       "    <tr>\n",
       "      <th>3</th>\n",
       "      <td>Minnesota</td>\n",
       "      <td>severe weather</td>\n",
       "      <td>1860.0</td>\n",
       "      <td>15:00:00</td>\n",
       "      <td>winter storm</td>\n",
       "    </tr>\n",
       "    <tr>\n",
       "      <th>4</th>\n",
       "      <td>Minnesota</td>\n",
       "      <td>severe weather</td>\n",
       "      <td>2970.0</td>\n",
       "      <td>20:30:00</td>\n",
       "      <td>tornadoes</td>\n",
       "    </tr>\n",
       "  </tbody>\n",
       "</table>\n",
       "</div>"
      ],
      "text/plain": [
       "  u.s._state      cause.category  outage.duration outage.start.time  \\\n",
       "0  Minnesota  intentional attack              1.0          18:38:00   \n",
       "1  Minnesota      severe weather           3000.0          20:00:00   \n",
       "2  Minnesota      severe weather           2550.0          04:30:00   \n",
       "3  Minnesota      severe weather           1860.0          15:00:00   \n",
       "4  Minnesota      severe weather           2970.0          20:30:00   \n",
       "\n",
       "  cause.category.detail  \n",
       "0             vandalism  \n",
       "1            heavy wind  \n",
       "2          thunderstorm  \n",
       "3          winter storm  \n",
       "4             tornadoes  "
      ]
     },
     "execution_count": 22,
     "metadata": {},
     "output_type": "execute_result"
    }
   ],
   "source": [
    "#Cleaning the dataframe: Extract only three columns: u.s._state, cause.category, and outage.duration\n",
    "#                        Remove all nans rows from the dataframe\n",
    "#                        Reset the index\n",
    "selected_cols = ['u.s._state', 'cause.category', 'outage.duration', 'outage.start.time','cause.category.detail']\n",
    "sub = outage_org[selected_cols]\n",
    "sub = remove_na(sub).reset_index(drop = True)\n",
    "sub.head()"
   ]
  },
  {
   "cell_type": "code",
   "execution_count": 36,
   "metadata": {},
   "outputs": [
    {
     "data": {
      "text/plain": [
       "<AxesSubplot:ylabel='Frequency'>"
      ]
     },
     "execution_count": 36,
     "metadata": {},
     "output_type": "execute_result"
    },
    {
     "data": {
      "image/png": "[encoded data removed]",
      "text/plain": [
       "<Figure size 432x288 with 1 Axes>"
      ]
     },
     "metadata": {
      "image/png": {
       "height": 248,
       "width": 388
      },
      "needs_background": "light"
     },
     "output_type": "display_data"
    }
   ],
   "source": [
    "(sub['outage.duration']/(60*24)).plot(kind = 'hist', bins = 40, xticks = range(0,70,2))"
   ]
  },
  {
   "cell_type": "code",
   "execution_count": 44,
   "metadata": {},
   "outputs": [
    {
     "data": {
      "text/plain": [
       "(0.6040856031128404, 0.816147859922179, 0.18385214007782102)"
      ]
     },
     "execution_count": 44,
     "metadata": {},
     "output_type": "execute_result"
    }
   ],
   "source": [
    "days = sub['outage.duration']/(60*24)\n",
    "(days < 1).mean(), (days < 3).mean(), (days >= 3).mean()"
   ]
  },
  {
   "cell_type": "code",
   "execution_count": 48,
   "metadata": {},
   "outputs": [],
   "source": [
    "def encode_duration(x):\n",
    "    duration_days = x/(60*24)\n",
    "    if duration_days <= 1:\n",
    "        return '<= 1 day'\n",
    "    elif duration_days <= 3:\n",
    "        return '<= 3 days '\n",
    "    else:\n",
    "        return 'above'"
   ]
  },
  {
   "cell_type": "code",
   "execution_count": 55,
   "metadata": {},
   "outputs": [
    {
     "data": {
      "text/html": [
       "<div>\n",
       "<style scoped>\n",
       "    .dataframe tbody tr th:only-of-type {\n",
       "        vertical-align: middle;\n",
       "    }\n",
       "\n",
       "    .dataframe tbody tr th {\n",
       "        vertical-align: top;\n",
       "    }\n",
       "\n",
       "    .dataframe thead th {\n",
       "        text-align: right;\n",
       "    }\n",
       "</style>\n",
       "<table border=\"1\" class=\"dataframe\">\n",
       "  <thead>\n",
       "    <tr style=\"text-align: right;\">\n",
       "      <th></th>\n",
       "      <th>u.s._state</th>\n",
       "      <th>cause.category</th>\n",
       "      <th>outage.duration</th>\n",
       "      <th>outage.start.time</th>\n",
       "      <th>cause.category.detail</th>\n",
       "      <th>duration.encoded</th>\n",
       "    </tr>\n",
       "  </thead>\n",
       "  <tbody>\n",
       "    <tr>\n",
       "      <th>0</th>\n",
       "      <td>Minnesota</td>\n",
       "      <td>intentional attack</td>\n",
       "      <td>1.0</td>\n",
       "      <td>18:38:00</td>\n",
       "      <td>vandalism</td>\n",
       "      <td>&lt;= 1 day</td>\n",
       "    </tr>\n",
       "    <tr>\n",
       "      <th>1</th>\n",
       "      <td>Minnesota</td>\n",
       "      <td>severe weather</td>\n",
       "      <td>3000.0</td>\n",
       "      <td>20:00:00</td>\n",
       "      <td>heavy wind</td>\n",
       "      <td>&lt;= 3 days</td>\n",
       "    </tr>\n",
       "    <tr>\n",
       "      <th>2</th>\n",
       "      <td>Minnesota</td>\n",
       "      <td>severe weather</td>\n",
       "      <td>2550.0</td>\n",
       "      <td>04:30:00</td>\n",
       "      <td>thunderstorm</td>\n",
       "      <td>&lt;= 3 days</td>\n",
       "    </tr>\n",
       "    <tr>\n",
       "      <th>3</th>\n",
       "      <td>Minnesota</td>\n",
       "      <td>severe weather</td>\n",
       "      <td>1860.0</td>\n",
       "      <td>15:00:00</td>\n",
       "      <td>winter storm</td>\n",
       "      <td>&lt;= 3 days</td>\n",
       "    </tr>\n",
       "    <tr>\n",
       "      <th>4</th>\n",
       "      <td>Minnesota</td>\n",
       "      <td>severe weather</td>\n",
       "      <td>2970.0</td>\n",
       "      <td>20:30:00</td>\n",
       "      <td>tornadoes</td>\n",
       "      <td>&lt;= 3 days</td>\n",
       "    </tr>\n",
       "  </tbody>\n",
       "</table>\n",
       "</div>"
      ],
      "text/plain": [
       "  u.s._state      cause.category  outage.duration outage.start.time  \\\n",
       "0  Minnesota  intentional attack              1.0          18:38:00   \n",
       "1  Minnesota      severe weather           3000.0          20:00:00   \n",
       "2  Minnesota      severe weather           2550.0          04:30:00   \n",
       "3  Minnesota      severe weather           1860.0          15:00:00   \n",
       "4  Minnesota      severe weather           2970.0          20:30:00   \n",
       "\n",
       "  cause.category.detail duration.encoded  \n",
       "0             vandalism         <= 1 day  \n",
       "1            heavy wind       <= 3 days   \n",
       "2          thunderstorm       <= 3 days   \n",
       "3          winter storm       <= 3 days   \n",
       "4             tornadoes       <= 3 days   "
      ]
     },
     "execution_count": 55,
     "metadata": {},
     "output_type": "execute_result"
    }
   ],
   "source": [
    "sub['duration.encoded'] = sub['outage.duration'].apply(encode_duration)\n",
    "sub.head()"
   ]
  },
  {
   "cell_type": "code",
   "execution_count": 58,
   "metadata": {},
   "outputs": [
    {
     "data": {
      "text/html": [
       "<div>\n",
       "<style scoped>\n",
       "    .dataframe tbody tr th:only-of-type {\n",
       "        vertical-align: middle;\n",
       "    }\n",
       "\n",
       "    .dataframe tbody tr th {\n",
       "        vertical-align: top;\n",
       "    }\n",
       "\n",
       "    .dataframe thead th {\n",
       "        text-align: right;\n",
       "    }\n",
       "</style>\n",
       "<table border=\"1\" class=\"dataframe\">\n",
       "  <thead>\n",
       "    <tr style=\"text-align: right;\">\n",
       "      <th></th>\n",
       "      <th>Weather</th>\n",
       "      <th>predictied_correct</th>\n",
       "    </tr>\n",
       "  </thead>\n",
       "  <tbody>\n",
       "    <tr>\n",
       "      <th>0</th>\n",
       "      <td>hot</td>\n",
       "      <td>True</td>\n",
       "    </tr>\n",
       "    <tr>\n",
       "      <th>1</th>\n",
       "      <td>cold</td>\n",
       "      <td>False</td>\n",
       "    </tr>\n",
       "    <tr>\n",
       "      <th>2</th>\n",
       "      <td>hot</td>\n",
       "      <td>True</td>\n",
       "    </tr>\n",
       "    <tr>\n",
       "      <th>3</th>\n",
       "      <td>hot</td>\n",
       "      <td>True</td>\n",
       "    </tr>\n",
       "    <tr>\n",
       "      <th>4</th>\n",
       "      <td>so-so</td>\n",
       "      <td>False</td>\n",
       "    </tr>\n",
       "    <tr>\n",
       "      <th>5</th>\n",
       "      <td>cold</td>\n",
       "      <td>True</td>\n",
       "    </tr>\n",
       "    <tr>\n",
       "      <th>6</th>\n",
       "      <td>hot</td>\n",
       "      <td>False</td>\n",
       "    </tr>\n",
       "    <tr>\n",
       "      <th>7</th>\n",
       "      <td>so-so</td>\n",
       "      <td>True</td>\n",
       "    </tr>\n",
       "  </tbody>\n",
       "</table>\n",
       "</div>"
      ],
      "text/plain": [
       "  Weather  predictied_correct\n",
       "0     hot                True\n",
       "1    cold               False\n",
       "2     hot                True\n",
       "3     hot                True\n",
       "4   so-so               False\n",
       "5    cold                True\n",
       "6     hot               False\n",
       "7   so-so                True"
      ]
     },
     "execution_count": 58,
     "metadata": {},
     "output_type": "execute_result"
    }
   ],
   "source": [
    "pd.DataFrame({'Weather': ['hot', 'cold', 'hot', 'hot', 'so-so', 'cold', 'hot','so-so'],\n",
    "             'predictied_correct': [True, False, True, True, False, True, False, True]})"
   ]
  },
  {
   "cell_type": "markdown",
   "metadata": {},
   "source": [
    "### Baseline Model"
   ]
  },
  {
   "cell_type": "code",
   "execution_count": 5,
   "metadata": {},
   "outputs": [],
   "source": [
    "from sklearn.tree import DecisionTreeClassifier\n",
    "from sklearn.tree import DecisionTreeRegressor\n",
    "from sklearn.model_selection import train_test_split\n",
    "from sklearn.preprocessing import OneHotEncoder\n",
    "from sklearn.preprocessing import FunctionTransformer\n",
    "from sklearn.preprocessing import OneHotEncoder\n",
    "from sklearn.pipeline import Pipeline\n",
    "from sklearn.compose import ColumnTransformer\n",
    "\n",
    "from sklearn.model_selection import train_test_split\n",
    "from sklearn.model_selection import GridSearchCV\n",
    "from sklearn.tree import DecisionTreeRegressor\n",
    "from sklearn.neighbors import KNeighborsRegressor\n",
    "from sklearn.tree import DecisionTreeClassifier"
   ]
  },
  {
   "cell_type": "code",
   "execution_count": 61,
   "metadata": {},
   "outputs": [
    {
     "data": {
      "text/plain": [
       "0.7013618677042801"
      ]
     },
     "execution_count": 61,
     "metadata": {},
     "output_type": "execute_result"
    }
   ],
   "source": [
    "#Build the model by transforming u.s._state and cause.category columns using one hot encoder from sklearn\n",
    "#Fit the data using DecisionTreeRegressor with max_depth = 5 and find the R-square of the prediction\n",
    "prepro = ColumnTransformer(\n",
    "    transformers = [('ohe', OneHotEncoder(handle_unknown='ignore'), ['u.s._state', 'cause.category','cause.category.detail'])],\n",
    "    remainder = 'passthrough'\n",
    ")\n",
    "ppl_base = Pipeline(\n",
    "    steps = [\n",
    "        ('prepro', prepro),\n",
    "        ('dtree', DecisionTreeClassifier(max_depth = 5))\n",
    "    ]\n",
    ")\n",
    "ppl_base.fit(sub.drop(\n",
    "    columns = ['outage.duration','outage.start.time', 'duration.encoded']), sub['duration.encoded'])\n",
    "ppl_base.score(sub.drop(\n",
    "    columns = ['outage.duration','outage.start.time', 'duration.encoded']), sub['duration.encoded'])"
   ]
  },
  {
   "cell_type": "code",
   "execution_count": 7,
   "metadata": {},
   "outputs": [],
   "source": [
    "#Dictionary of hyper parameter used to find the best fit\n",
    "hypers = {\n",
    "    'dtree__max_depth':[2,3,4,5,6,7,8,9,10,11,12,13,14,15]\n",
    "}"
   ]
  },
  {
   "cell_type": "code",
   "execution_count": 69,
   "metadata": {},
   "outputs": [
    {
     "data": {
      "text/plain": [
       "({'dtree__max_depth': 6}, 0.7341115434500648, 0.669260700389105)"
      ]
     },
     "execution_count": 69,
     "metadata": {},
     "output_type": "execute_result"
    }
   ],
   "source": [
    "#Apply GridSearchCV on the baseline model to find the best-fit hyperparameter\n",
    "X_train, X_test, y_train, y_test = train_test_split(\n",
    "    sub.drop(columns = ['outage.duration','outage.start.time', 'duration.encoded']),\n",
    "    sub['duration.encoded'],)\n",
    "searcher = GridSearchCV(ppl_base, hypers, cv = 5)\n",
    "searcher.fit(X_train, y_train)\n",
    "searcher.best_params_, searcher.score(X_train, y_train), searcher.score(X_test, y_test)"
   ]
  },
  {
   "cell_type": "markdown",
   "metadata": {},
   "source": [
    "### Final Model"
   ]
  },
  {
   "cell_type": "code",
   "execution_count": 75,
   "metadata": {
    "scrolled": true
   },
   "outputs": [
    {
     "data": {
      "text/html": [
       "<div>\n",
       "<style scoped>\n",
       "    .dataframe tbody tr th:only-of-type {\n",
       "        vertical-align: middle;\n",
       "    }\n",
       "\n",
       "    .dataframe tbody tr th {\n",
       "        vertical-align: top;\n",
       "    }\n",
       "\n",
       "    .dataframe thead th {\n",
       "        text-align: right;\n",
       "    }\n",
       "</style>\n",
       "<table border=\"1\" class=\"dataframe\">\n",
       "  <thead>\n",
       "    <tr style=\"text-align: right;\">\n",
       "      <th></th>\n",
       "      <th>u.s._state</th>\n",
       "      <th>winter_avg_temp</th>\n",
       "      <th>summer_avg_temp</th>\n",
       "    </tr>\n",
       "  </thead>\n",
       "  <tbody>\n",
       "    <tr>\n",
       "      <th>0</th>\n",
       "      <td>Alabama</td>\n",
       "      <td>8.1</td>\n",
       "      <td>25.9</td>\n",
       "    </tr>\n",
       "    <tr>\n",
       "      <th>1</th>\n",
       "      <td>Alaska</td>\n",
       "      <td>-16.3</td>\n",
       "      <td>11.3</td>\n",
       "    </tr>\n",
       "    <tr>\n",
       "      <th>2</th>\n",
       "      <td>Arizona</td>\n",
       "      <td>6.4</td>\n",
       "      <td>25.6</td>\n",
       "    </tr>\n",
       "    <tr>\n",
       "      <th>3</th>\n",
       "      <td>Arkansas</td>\n",
       "      <td>5.3</td>\n",
       "      <td>26.0</td>\n",
       "    </tr>\n",
       "    <tr>\n",
       "      <th>4</th>\n",
       "      <td>California</td>\n",
       "      <td>7.9</td>\n",
       "      <td>23.0</td>\n",
       "    </tr>\n",
       "  </tbody>\n",
       "</table>\n",
       "</div>"
      ],
      "text/plain": [
       "   u.s._state  winter_avg_temp  summer_avg_temp\n",
       "0     Alabama              8.1             25.9\n",
       "1      Alaska            -16.3             11.3\n",
       "2     Arizona              6.4             25.6\n",
       "3    Arkansas              5.3             26.0\n",
       "4  California              7.9             23.0"
      ]
     },
     "execution_count": 75,
     "metadata": {},
     "output_type": "execute_result"
    }
   ],
   "source": [
    "#Import temp_state.csv which contains the state name, the average temperature in winter by state, \n",
    "#and the average temperature in summer by state\n",
    "temp_df = pd.read_csv('temp_state.csv').drop(columns = ['Unnamed: 0'])\n",
    "temp_df.head()"
   ]
  },
  {
   "cell_type": "code",
   "execution_count": 76,
   "metadata": {
    "scrolled": true
   },
   "outputs": [
    {
     "data": {
      "text/html": [
       "<div>\n",
       "<style scoped>\n",
       "    .dataframe tbody tr th:only-of-type {\n",
       "        vertical-align: middle;\n",
       "    }\n",
       "\n",
       "    .dataframe tbody tr th {\n",
       "        vertical-align: top;\n",
       "    }\n",
       "\n",
       "    .dataframe thead th {\n",
       "        text-align: right;\n",
       "    }\n",
       "</style>\n",
       "<table border=\"1\" class=\"dataframe\">\n",
       "  <thead>\n",
       "    <tr style=\"text-align: right;\">\n",
       "      <th></th>\n",
       "      <th>u.s._state</th>\n",
       "      <th>cause.category</th>\n",
       "      <th>outage.duration</th>\n",
       "      <th>outage.start.time</th>\n",
       "      <th>cause.category.detail</th>\n",
       "      <th>duration.encoded</th>\n",
       "      <th>winter_avg_temp</th>\n",
       "      <th>summer_avg_temp</th>\n",
       "    </tr>\n",
       "  </thead>\n",
       "  <tbody>\n",
       "    <tr>\n",
       "      <th>0</th>\n",
       "      <td>Minnesota</td>\n",
       "      <td>intentional attack</td>\n",
       "      <td>1.0</td>\n",
       "      <td>18:38:00</td>\n",
       "      <td>vandalism</td>\n",
       "      <td>&lt;= 1 day</td>\n",
       "      <td>-10.9</td>\n",
       "      <td>19.3</td>\n",
       "    </tr>\n",
       "    <tr>\n",
       "      <th>1</th>\n",
       "      <td>Minnesota</td>\n",
       "      <td>severe weather</td>\n",
       "      <td>3000.0</td>\n",
       "      <td>20:00:00</td>\n",
       "      <td>heavy wind</td>\n",
       "      <td>&lt;= 3 days</td>\n",
       "      <td>-10.9</td>\n",
       "      <td>19.3</td>\n",
       "    </tr>\n",
       "    <tr>\n",
       "      <th>2</th>\n",
       "      <td>Minnesota</td>\n",
       "      <td>severe weather</td>\n",
       "      <td>2550.0</td>\n",
       "      <td>04:30:00</td>\n",
       "      <td>thunderstorm</td>\n",
       "      <td>&lt;= 3 days</td>\n",
       "      <td>-10.9</td>\n",
       "      <td>19.3</td>\n",
       "    </tr>\n",
       "    <tr>\n",
       "      <th>3</th>\n",
       "      <td>Minnesota</td>\n",
       "      <td>severe weather</td>\n",
       "      <td>1860.0</td>\n",
       "      <td>15:00:00</td>\n",
       "      <td>winter storm</td>\n",
       "      <td>&lt;= 3 days</td>\n",
       "      <td>-10.9</td>\n",
       "      <td>19.3</td>\n",
       "    </tr>\n",
       "    <tr>\n",
       "      <th>4</th>\n",
       "      <td>Minnesota</td>\n",
       "      <td>severe weather</td>\n",
       "      <td>2970.0</td>\n",
       "      <td>20:30:00</td>\n",
       "      <td>tornadoes</td>\n",
       "      <td>&lt;= 3 days</td>\n",
       "      <td>-10.9</td>\n",
       "      <td>19.3</td>\n",
       "    </tr>\n",
       "  </tbody>\n",
       "</table>\n",
       "</div>"
      ],
      "text/plain": [
       "  u.s._state      cause.category  outage.duration outage.start.time  \\\n",
       "0  Minnesota  intentional attack              1.0          18:38:00   \n",
       "1  Minnesota      severe weather           3000.0          20:00:00   \n",
       "2  Minnesota      severe weather           2550.0          04:30:00   \n",
       "3  Minnesota      severe weather           1860.0          15:00:00   \n",
       "4  Minnesota      severe weather           2970.0          20:30:00   \n",
       "\n",
       "  cause.category.detail duration.encoded  winter_avg_temp  summer_avg_temp  \n",
       "0             vandalism         <= 1 day            -10.9             19.3  \n",
       "1            heavy wind       <= 3 days             -10.9             19.3  \n",
       "2          thunderstorm       <= 3 days             -10.9             19.3  \n",
       "3          winter storm       <= 3 days             -10.9             19.3  \n",
       "4             tornadoes       <= 3 days             -10.9             19.3  "
      ]
     },
     "execution_count": 76,
     "metadata": {},
     "output_type": "execute_result"
    }
   ],
   "source": [
    "#Merge temp_df to the final_sub \n",
    "final_sub = sub.copy()\n",
    "#final_sub['long_by_state'] = col\n",
    "final_sub = final_sub.merge(temp_df, left_on = 'u.s._state', right_on = 'u.s._state')\n",
    "final_sub.head()"
   ]
  },
  {
   "cell_type": "code",
   "execution_count": 77,
   "metadata": {},
   "outputs": [],
   "source": [
    "#Helper function that converts time of a day to four periods of time\n",
    "def descretize_startTime(time):\n",
    "    #Morning 5 am to 12 pm (noon)\n",
    "    #Afternoon 12 pm to 5 pm.\n",
    "    #Evening 5 pm to 9 pm.\n",
    "    #Night 9 pm to 4 am.\n",
    "    if time.hour >= 5 and time.hour < 12:\n",
    "        return 'Morning'\n",
    "    elif time.hour >= 12 and time.hour < 17:\n",
    "        return 'Afternoon'\n",
    "    elif time.hour >= 17 and time.hour < 21:\n",
    "        return 'Evening'\n",
    "    else:\n",
    "        return 'Night'"
   ]
  },
  {
   "cell_type": "code",
   "execution_count": 78,
   "metadata": {},
   "outputs": [],
   "source": [
    "#Function that apply descretize_startTime on a series/dataframe and return a dataframe\n",
    "def change_starttime(ser):\n",
    "    df = pd.DataFrame(ser)\n",
    "    return pd.DataFrame(df['outage.start.time'].apply(descretize_startTime))"
   ]
  },
  {
   "cell_type": "code",
   "execution_count": 79,
   "metadata": {},
   "outputs": [],
   "source": [
    "discretize_time = Pipeline([\n",
    "        ('discretize_hour', FunctionTransformer(change_starttime)),\n",
    "        ('one_hot_encoding', OneHotEncoder())\n",
    "        ]\n",
    "    )"
   ]
  },
  {
   "cell_type": "code",
   "execution_count": 80,
   "metadata": {},
   "outputs": [],
   "source": [
    "#Function that converts summer temperature into boolean to define whether the summer is hot\n",
    "def transform_hot(temp):\n",
    "    df = pd.DataFrame(temp)\n",
    "    def check_warm(x):\n",
    "        if x >= 25:\n",
    "            return True\n",
    "        else:\n",
    "            return False\n",
    "    return pd.DataFrame(df['summer_avg_temp'].apply(check_warm))\n",
    "hot_changed = Pipeline([\n",
    "        ('temp_to_hot', FunctionTransformer(transform_hot)),\n",
    "        ('one_hot_encoding', OneHotEncoder())\n",
    "        ]\n",
    "    )"
   ]
  },
  {
   "cell_type": "code",
   "execution_count": 81,
   "metadata": {},
   "outputs": [],
   "source": [
    "#Function that converts winter temperature into boolean to define whether the winter is cold\n",
    "def transform_cold(temp):\n",
    "    df = pd.DataFrame(temp)\n",
    "    def check_cold(x):\n",
    "        if x <= 0 :\n",
    "            return True\n",
    "        else:\n",
    "            return False\n",
    "    return pd.DataFrame(df['winter_avg_temp'].apply(check_cold))\n",
    "cold_changed = Pipeline([\n",
    "        ('temp_to_cold', FunctionTransformer(transform_cold)),\n",
    "        ('one_hot_encoding', OneHotEncoder())\n",
    "        ]\n",
    "    )"
   ]
  },
  {
   "cell_type": "code",
   "execution_count": 90,
   "metadata": {},
   "outputs": [
    {
     "data": {
      "text/plain": [
       "0.7062256809338522"
      ]
     },
     "execution_count": 90,
     "metadata": {},
     "output_type": "execute_result"
    }
   ],
   "source": [
    "#Build the model by transforming u.s._state, cause.category, \n",
    "#and long_by_state columns using one hot encoder from sklearn\n",
    "#Fit the data using DecisionTreeRegressor with max_depth = 5 and find the R-square of the prediction\n",
    "prepro = ColumnTransformer(\n",
    "    transformers = [('ohe', OneHotEncoder(handle_unknown='ignore'), ['u.s._state', 'cause.category',\n",
    "                                                                     'cause.category.detail']),\n",
    "                    ('start_time_discretize', discretize_time, ['outage.start.time']),\n",
    "                   ('cold_changed_prepro', cold_changed, ['winter_avg_temp']),\n",
    "                   ('hot_changed_prepro', hot_changed, ['summer_avg_temp'])],\n",
    "    remainder = 'passthrough'\n",
    ")\n",
    "ppl_improve = Pipeline(\n",
    "    steps = [\n",
    "        ('prepro', prepro),\n",
    "        ('dtree2', DecisionTreeClassifier(max_depth = 5))\n",
    "        \n",
    "    ]\n",
    ")\n",
    "\n",
    "ppl_improve.fit(final_sub.drop(columns = ['duration.encoded', 'outage.duration']), final_sub['duration.encoded'])\n",
    "ppl_improve.score(final_sub.drop(columns = ['duration.encoded', 'outage.duration']), final_sub['duration.encoded'])"
   ]
  },
  {
   "cell_type": "code",
   "execution_count": 91,
   "metadata": {},
   "outputs": [],
   "source": [
    "#Dictionary of hyper parameter used to find the best fit\n",
    "hypers2 = {\n",
    "    'dtree2__max_depth':[2,3,4,5,6,7,8,9,10,11,12,13,14,15],\n",
    "    'dtree2__splitter': ['best', 'random'],\n",
    "    #'dtree2__min_samples_split': [2, 3, 5, 7, 10, 15, 20],\n",
    "}"
   ]
  },
  {
   "cell_type": "code",
   "execution_count": 93,
   "metadata": {
    "scrolled": true
   },
   "outputs": [
    {
     "data": {
      "text/plain": [
       "({'dtree2__max_depth': 14, 'dtree2__splitter': 'best'},\n",
       " 0.8313878080415046,\n",
       " 0.6926070038910506)"
      ]
     },
     "execution_count": 93,
     "metadata": {},
     "output_type": "execute_result"
    }
   ],
   "source": [
    "#Apply GridSearchCV on the baseline model to find the best-fit hyperparameter\n",
    "X2_train, X2_test, y2_train, y2_test = train_test_split(\n",
    "    final_sub.drop(columns = ['duration.encoded', 'outage.duration']), final_sub['duration.encoded'])\n",
    "searcher = GridSearchCV(ppl_improve, hypers2, cv = 5)\n",
    "searcher.fit(X2_train, y2_train)\n",
    "searcher.best_params_, searcher.score(X2_train, y2_train), searcher.score(X2_test, y2_test)"
   ]
  },
  {
   "cell_type": "code",
   "execution_count": 96,
   "metadata": {},
   "outputs": [
    {
     "data": {
      "text/plain": [
       "({'dtree2__max_depth': 14, 'dtree2__splitter': 'best'},\n",
       " 0.8184176394293126,\n",
       " 0.708171206225681)"
      ]
     },
     "execution_count": 96,
     "metadata": {},
     "output_type": "execute_result"
    }
   ],
   "source": [
    "#Apply GridSearchCV on the baseline model to find the best-fit hyperparameter\n",
    "X2_train, X2_test, y2_train, y2_test = train_test_split(\n",
    "    final_sub.drop(columns = ['duration.encoded', 'outage.duration']), final_sub['duration.encoded'])\n",
    "searcher = GridSearchCV(ppl_improve, hypers2, cv = 5)\n",
    "searcher.fit(X2_train, y2_train)\n",
    "searcher.best_params_, searcher.score(X2_train, y2_train), searcher.score(X2_test, y2_test)"
   ]
  },
  {
   "cell_type": "markdown",
   "metadata": {},
   "source": [
    "### Fairness Analysis"
   ]
  },
  {
   "cell_type": "markdown",
   "metadata": {},
   "source": [
    "Null Hypothesis: Our model is fair. The R-Squared for the lower 90 percentile is roughly the same as the R-Squared of the top 10 percentile in outage duration by state. <br>\n",
    "Alternative Hypothesis: Our model is unfair. The R-Squared for the lower 90 percentile is higher than the R-Squared of the top 10 percentile in outage duration by state."
   ]
  },
  {
   "cell_type": "code",
   "execution_count": null,
   "metadata": {
    "scrolled": false
   },
   "outputs": [],
   "source": [
    "final_sub"
   ]
  },
  {
   "cell_type": "code",
   "execution_count": null,
   "metadata": {},
   "outputs": [],
   "source": [
    "state = final_sub['u.s._state'].unique()\n",
    "state"
   ]
  },
  {
   "cell_type": "code",
   "execution_count": null,
   "metadata": {},
   "outputs": [],
   "source": [
    "shuffled_lst = pd.Series([],dtype=object)\n",
    "for x in state:\n",
    "    shuffled_lst = shuffled_lst.append(pd.Series(np.random.permutation(final_sub[final_sub['u.s._state'] == x]['long_by_state'])), ignore_index = True)"
   ]
  },
  {
   "cell_type": "code",
   "execution_count": null,
   "metadata": {},
   "outputs": [],
   "source": [
    "shuffled_lst"
   ]
  },
  {
   "cell_type": "code",
   "execution_count": null,
   "metadata": {},
   "outputs": [],
   "source": [
    "final_sub_copy = final_sub.copy()\n",
    "diff_lst = []\n",
    "for _ in range(100):\n",
    "    shuffled_lst = pd.Series([],dtype=object)\n",
    "    for x in state:\n",
    "        #Shuffle the long_by_state columns within ea\n",
    "        shuffled_lst = shuffled_lst.append(pd.Series(np.random.permutation(final_sub\n",
    "                                            [final_sub['u.s._state'] == x]['long_by_state'])), ignore_index = True)\n",
    "    copy_false = final_sub_copy[final_sub_copy['long_by_state'] == False]\n",
    "    ppl_improve.fit(copy_false.drop(columns = ['outage.duration']), copy_false['outage.duration'])\n",
    "    false_score = ppl_improve.score(copy_false.drop(columns = ['outage.duration']), copy_false['outage.duration'])\n",
    "\n",
    "    copy_true = final_sub_copy[final_sub_copy['long_by_state'] == True]\n",
    "    ppl_improve.fit(copy_true.drop(columns = ['outage.duration']), copy_true['outage.duration'])\n",
    "    true_score = ppl_improve.score(copy_true.drop(columns = ['outage.duration']), copy_true['outage.duration'])\n",
    "    diff_lst.append(false_score - true_score)"
   ]
  },
  {
   "cell_type": "code",
   "execution_count": null,
   "metadata": {},
   "outputs": [],
   "source": [
    "p_val = np.mean([np.array(diff_lst) > 0])\n",
    "p_val"
   ]
  }
 ],
 "metadata": {
  "kernelspec": {
   "display_name": "Python 3 (ipykernel)",
   "language": "python",
   "name": "python3"
  },
  "language_info": {
   "codemirror_mode": {
    "name": "ipython",
    "version": 3
   },
   "file_extension": ".py",
   "mimetype": "text/x-python",
   "name": "python",
   "nbconvert_exporter": "python",
   "pygments_lexer": "ipython3",
   "version": "3.8.13"
  }
 },
 "nbformat": 4,
 "nbformat_minor": 2
}
