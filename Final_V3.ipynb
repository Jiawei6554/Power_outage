{
 "cells": [
  {
   "cell_type": "markdown",
   "metadata": {},
   "source": [
    "# Predicting Major Power Outages\n",
    "\n",
    "**Jiawei Yang, Zhixing Jiang**"
   ]
  },
  {
   "cell_type": "markdown",
   "metadata": {},
   "source": [
    "## Summary of Findings"
   ]
  },
  {
   "cell_type": "markdown",
   "metadata": {},
   "source": [
    "### Introduction\n",
    "Based on the dataset of major power outages happened in the United State during recent years, our ultimate goal in this project is to predict if the duration of the power outage is `<= 1 day`, `<= 3 days but > 1 day`, and `above 3 days` given various characteristics that pertain to directly to the specific instance of power outage and indirectly to the area where the outage takes place.\n",
    "\n",
    "We encode the variable `outage.duration` based on whether it is less than a day, more than a day but less than 3 days, or more than 3 days into a a new variable `duration.encoded`. We chose this new variable `duration.encoded` to be our response variable. We chose it since it categorize the length of duration of outages and give us a brief idea of the length of the outage duration\n",
    "\n",
    "Since we attempt to predict a categorical outcome, we use classifier-based algorithm to build the model: we end up using decision tree classifier after comparing it to KNN classifier. We will use R-squared as our main metric to evaluate the performance of our model."
   ]
  },
  {
   "cell_type": "markdown",
   "metadata": {},
   "source": [
    "### Baseline Model\n",
    "In the prediction process, we assume that the model is used to predict if the duration of the power outage is `<= 1 day`, `<= 3 days but > 1 day`, and `above 3 days` after the happening of that power outage. Therefore the following features from the original data set could not be used as input variables, since they are by natural unobserved at the point of outage happenings:\n",
    "1. `outage.restoration.time`: this directly tells you the outage durtaion.\n",
    "<br>\n",
    "<br>\n",
    "2. `customers.affected`: we assume this statistic is collected/estiamted at least some time after one outage happening.\n",
    "\n",
    "We include the following features in the model:\n",
    "1. `u.s._state`: the state in which the outage took place, originally recorded as categorical strings with 50+ levels. (One-hot encoded in the model)\n",
    "<br>\n",
    "<br>\n",
    "2. `cause.category`: the description of cause of outage, originally recorded as categorical stirngs with 20+ levels. (One-hot encoded in the model) One may argue the cause or reason of the outage is not revealed immediately after the outage happening. (Since it may take time for the company to investigate) We are aware of such potential concerns, but decided to include this feature in the model assuming the company would know right away why an outage happens.\n",
    "\n",
    "We use train-test split and cross validation to pick the model that maximize both in-sample and out-of-sample performance: specifically, we pick the best hyperparameter, max depth, of the prediction tree based on R-sqaured. The best hyperparameter we found for max_depth is 14. The accuracy of the train set is around 0.7043 while the one for test set is around 0.6653, which is not good because we get accuracy 0.6683 when we simply use max_depth 5 in our initial model. For the next step, we are planning to introduce more features into our final model to improve the performance"
   ]
  },
  {
   "cell_type": "markdown",
   "metadata": {},
   "source": [
    "### Final Model\n",
    "On top of the features present in the baseline model, we include the following three features in the final model, hoping to improve performance. The additional features are results of feature engineering based on both information recorded in the model and additional data we collected (during project 3). Feature engineering is done by `ColumnTransformer` classes we define.\n",
    "\n",
    "We believe that extreme weather could hinder the process of restoring a power outage and therefore influence the duration of power outage. We further specify 'extreme weather' to be hot summer and cold winder by encoding the power outages with the following four features.\n",
    "\n",
    "1. `hot_summer`: a binary encoding, `True` if the power outage took place both:\n",
    "<br>\n",
    "$\\;\\;\\;\\;\\;\\;$   in one of the months: June, July or August\n",
    "<br>\n",
    "$\\;\\;\\;\\;\\;\\;$   in a state where the average summer temperature is above 25 degree celsius.\n",
    "<br>\n",
    "2. `cold_winter`: a  binary encoding, `True` if the power outage took place both:\n",
    "<br>\n",
    "$\\;\\;\\;\\;\\;\\;$   in one of the months: December, January or February\n",
    "<br>\n",
    "$\\;\\;\\;\\;\\;\\;$   in a state where the average winter temperature is below 0 degree celsius.\n",
    "<br>\n",
    "3. `cause.category.detail`: the detail description of the cause in cateogory, orginally recorded as cartegorical strings with 50+ levels(One-hot encoded in the model). We are choosing this feature in the model also assuming the company would know right away because incidents like heavy wind or winter storm are easily spotted.\n",
    "<br>\n",
    "4. `outage.start.time`: In addition, we introduce another feature from the orginal dataset \"outage.start.time\". However, we believe that we cannot treat it as continuous, so we created a function to discretize the column. We split the day into four periods of time: Morning (5 am to 12 pm), Afternoon (12 pm to 5 pm), Evening (5 pm to 9 pm), and Night (9 pm to 4 am).\n",
    "\n",
    "We discovered that to make the best prediction, we should choose the hyperparameter max_depth: 12, splitter: random. The accuracy of the train set is around 0.8145 while the one for test set is around 0.7042, which has a noticeable improvement by around 10 percent comparing to the test set performance of the baseline model. The difference in accuaracy between the train set and the test set is still significant that we cannot rule out the possibility of overfitting."
   ]
  },
  {
   "cell_type": "markdown",
   "metadata": {},
   "source": [
    "### Fairness Analysis\n",
    "In our test data with the final model, we find that the model predicts the categorical duration of outage slightly more accurately for the outages that start before noon in the day, as compared to those that start after noon. We seek to use permutation test to answer the question of whether our model is unfair in that it predicts outages whose start time in the day is before 12:00 PM more accurately than those after 12:00 PM. (i.e. we binarize every observation with respect to its `outage.start.time` in the day with a threshold of 12)\n",
    "\n",
    "Specifically, the following set of hypothesis is tested:<br>\n",
    " $H_0$: our model is fair, it predicts outages that start before 12:00 PM roughly as accurately as it predicts ones starting after 12:00PM in the day. <br>\n",
    " $H_a$: our model is not fair, it predicts outage that start before 12:00 PM better.\n",
    " \n",
    "By comparing the predict result of `X2_test` and `y2_test`, we get accuracy of each prediction. We then shuffle the start time column to run a permutation test.\n",
    "\n",
    "We use difference in signed difference in mean: Accuracy(A.M. outages) - Accuracy(P.M. outages) as our test statistic. And with 1000 permutation, we arrive at the p-value of 14.5% so the difference in mean is significant at even 10% level. Therefore we reject the null hypothesis and identify evidence for more accurate prediction of outages that start in A.M."
   ]
  },
  {
   "cell_type": "markdown",
   "metadata": {},
   "source": [
    "## Code"
   ]
  },
  {
   "cell_type": "code",
   "execution_count": 1,
   "metadata": {},
   "outputs": [],
   "source": [
    "import matplotlib.pyplot as plt\n",
    "import numpy as np\n",
    "import os\n",
    "import pandas as pd\n",
    "import seaborn as sns\n",
    "%config InlineBackend.figure_format = 'retina'  # Higher resolution figures"
   ]
  },
  {
   "cell_type": "markdown",
   "metadata": {},
   "source": [
    "### Load and Cleaning"
   ]
  },
  {
   "cell_type": "code",
   "execution_count": 2,
   "metadata": {},
   "outputs": [
    {
     "data": {
      "text/plain": [
       "Index(['obs', 'year', 'month', 'u.s._state', 'postal.code', 'nerc.region',\n",
       "       'climate.region', 'anomaly.level', 'climate.category',\n",
       "       'outage.start.date', 'outage.start.time', 'outage.restoration.date',\n",
       "       'outage.restoration.time', 'cause.category', 'cause.category.detail',\n",
       "       'hurricane.names', 'outage.duration', 'demand.loss.mw',\n",
       "       'customers.affected', 'res.price', 'com.price', 'ind.price',\n",
       "       'total.price', 'res.sales', 'com.sales', 'ind.sales', 'total.sales',\n",
       "       'res.percen', 'com.percen', 'ind.percen', 'res.customers',\n",
       "       'com.customers', 'ind.customers', 'total.customers', 'res.cust.pct',\n",
       "       'com.cust.pct', 'ind.cust.pct', 'pc.realgsp.state', 'pc.realgsp.usa',\n",
       "       'pc.realgsp.rel', 'pc.realgsp.change', 'util.realgsp', 'total.realgsp',\n",
       "       'util.contri', 'pi.util.ofusa', 'population', 'poppct_urban',\n",
       "       'poppct_uc', 'popden_urban', 'popden_uc', 'popden_rural',\n",
       "       'areapct_urban', 'areapct_uc', 'pct_land', 'pct_water_tot',\n",
       "       'pct_water_inland'],\n",
       "      dtype='object')"
      ]
     },
     "execution_count": 2,
     "metadata": {},
     "output_type": "execute_result"
    }
   ],
   "source": [
    "#Convert all column names to lower case\n",
    "outage_org = pd.read_excel('outage.csv')\n",
    "outage_org.columns = [t.lower() for t in outage_org.columns]\n",
    "outage_org.columns"
   ]
  },
  {
   "cell_type": "code",
   "execution_count": 3,
   "metadata": {},
   "outputs": [],
   "source": [
    "#Function that help remove the rows that contain null values\n",
    "def remove_na(df):\n",
    "    return df.loc[~df.isna().any(axis = 1).values]"
   ]
  },
  {
   "cell_type": "code",
   "execution_count": 4,
   "metadata": {},
   "outputs": [
    {
     "data": {
      "text/html": [
       "<div>\n",
       "<style scoped>\n",
       "    .dataframe tbody tr th:only-of-type {\n",
       "        vertical-align: middle;\n",
       "    }\n",
       "\n",
       "    .dataframe tbody tr th {\n",
       "        vertical-align: top;\n",
       "    }\n",
       "\n",
       "    .dataframe thead th {\n",
       "        text-align: right;\n",
       "    }\n",
       "</style>\n",
       "<table border=\"1\" class=\"dataframe\">\n",
       "  <thead>\n",
       "    <tr style=\"text-align: right;\">\n",
       "      <th></th>\n",
       "      <th>u.s._state</th>\n",
       "      <th>cause.category</th>\n",
       "      <th>outage.duration</th>\n",
       "      <th>outage.start.time</th>\n",
       "      <th>cause.category.detail</th>\n",
       "    </tr>\n",
       "  </thead>\n",
       "  <tbody>\n",
       "    <tr>\n",
       "      <th>0</th>\n",
       "      <td>Minnesota</td>\n",
       "      <td>intentional attack</td>\n",
       "      <td>1.0</td>\n",
       "      <td>18:38:00</td>\n",
       "      <td>vandalism</td>\n",
       "    </tr>\n",
       "    <tr>\n",
       "      <th>1</th>\n",
       "      <td>Minnesota</td>\n",
       "      <td>severe weather</td>\n",
       "      <td>3000.0</td>\n",
       "      <td>20:00:00</td>\n",
       "      <td>heavy wind</td>\n",
       "    </tr>\n",
       "    <tr>\n",
       "      <th>2</th>\n",
       "      <td>Minnesota</td>\n",
       "      <td>severe weather</td>\n",
       "      <td>2550.0</td>\n",
       "      <td>04:30:00</td>\n",
       "      <td>thunderstorm</td>\n",
       "    </tr>\n",
       "    <tr>\n",
       "      <th>3</th>\n",
       "      <td>Minnesota</td>\n",
       "      <td>severe weather</td>\n",
       "      <td>1860.0</td>\n",
       "      <td>15:00:00</td>\n",
       "      <td>winter storm</td>\n",
       "    </tr>\n",
       "    <tr>\n",
       "      <th>4</th>\n",
       "      <td>Minnesota</td>\n",
       "      <td>severe weather</td>\n",
       "      <td>2970.0</td>\n",
       "      <td>20:30:00</td>\n",
       "      <td>tornadoes</td>\n",
       "    </tr>\n",
       "  </tbody>\n",
       "</table>\n",
       "</div>"
      ],
      "text/plain": [
       "  u.s._state      cause.category  outage.duration outage.start.time  \\\n",
       "0  Minnesota  intentional attack              1.0          18:38:00   \n",
       "1  Minnesota      severe weather           3000.0          20:00:00   \n",
       "2  Minnesota      severe weather           2550.0          04:30:00   \n",
       "3  Minnesota      severe weather           1860.0          15:00:00   \n",
       "4  Minnesota      severe weather           2970.0          20:30:00   \n",
       "\n",
       "  cause.category.detail  \n",
       "0             vandalism  \n",
       "1            heavy wind  \n",
       "2          thunderstorm  \n",
       "3          winter storm  \n",
       "4             tornadoes  "
      ]
     },
     "execution_count": 4,
     "metadata": {},
     "output_type": "execute_result"
    }
   ],
   "source": [
    "#Cleaning the dataframe: Extract five columns from the dataframe: 'u.s._state', 'cause.category', \n",
    "#                        'outage.duration', 'outage.start.time','cause.category.detail'\n",
    "#                        Remove all NaNs rows from the dataframe\n",
    "#                        Reset the index\n",
    "selected_cols = ['u.s._state', 'cause.category', 'outage.duration','outage.start.time','cause.category.detail']\n",
    "sub = outage_org[selected_cols]\n",
    "sub = remove_na(sub).reset_index(drop = True)\n",
    "sub.head()"
   ]
  },
  {
   "cell_type": "code",
   "execution_count": 5,
   "metadata": {},
   "outputs": [
    {
     "data": {
      "image/png": "[encoded data removed]",
      "text/plain": [
       "<Figure size 432x288 with 1 Axes>"
      ]
     },
     "metadata": {
      "image/png": {
       "height": 263,
       "width": 388
      },
      "needs_background": "light"
     },
     "output_type": "display_data"
    }
   ],
   "source": [
    "#The distribution of the outage.duration is fairly right-skewed\n",
    "(sub['outage.duration']/(60*24)).plot(kind = 'hist', bins = 40, xticks = range(0,70,5), title = 'duration (days)');"
   ]
  },
  {
   "cell_type": "code",
   "execution_count": 6,
   "metadata": {},
   "outputs": [],
   "source": [
    "#Encode the duration time with '<= 1 day', '<= 3 days but > 1 day', and 'above 3 days'\n",
    "def encode_duration(x):\n",
    "    duration_days = x/(60*24)\n",
    "    if duration_days <= 1:\n",
    "        return '<= 1 day'\n",
    "    elif duration_days <= 3:\n",
    "        return '<= 3 days but > 1 day'\n",
    "    else:\n",
    "        return 'above 3 days'"
   ]
  },
  {
   "cell_type": "code",
   "execution_count": 7,
   "metadata": {
    "scrolled": true
   },
   "outputs": [
    {
     "data": {
      "text/plain": [
       "(0.6040856031128404, 0.21206225680933852, 0.18385214007782102)"
      ]
     },
     "execution_count": 7,
     "metadata": {},
     "output_type": "execute_result"
    }
   ],
   "source": [
    "#The probability of outage duration fallen into these three ranges\n",
    "days = sub['outage.duration']/(60*24)\n",
    "(days < 1).mean(), ((days >= 1)*(days < 3)).mean(), (days >= 3).mean()"
   ]
  },
  {
   "cell_type": "code",
   "execution_count": 8,
   "metadata": {
    "scrolled": false
   },
   "outputs": [
    {
     "data": {
      "text/html": [
       "<div>\n",
       "<style scoped>\n",
       "    .dataframe tbody tr th:only-of-type {\n",
       "        vertical-align: middle;\n",
       "    }\n",
       "\n",
       "    .dataframe tbody tr th {\n",
       "        vertical-align: top;\n",
       "    }\n",
       "\n",
       "    .dataframe thead th {\n",
       "        text-align: right;\n",
       "    }\n",
       "</style>\n",
       "<table border=\"1\" class=\"dataframe\">\n",
       "  <thead>\n",
       "    <tr style=\"text-align: right;\">\n",
       "      <th></th>\n",
       "      <th>u.s._state</th>\n",
       "      <th>cause.category</th>\n",
       "      <th>outage.start.time</th>\n",
       "      <th>cause.category.detail</th>\n",
       "      <th>duration.encoded</th>\n",
       "    </tr>\n",
       "  </thead>\n",
       "  <tbody>\n",
       "    <tr>\n",
       "      <th>0</th>\n",
       "      <td>Minnesota</td>\n",
       "      <td>intentional attack</td>\n",
       "      <td>18:38:00</td>\n",
       "      <td>vandalism</td>\n",
       "      <td>&lt;= 1 day</td>\n",
       "    </tr>\n",
       "    <tr>\n",
       "      <th>1</th>\n",
       "      <td>Minnesota</td>\n",
       "      <td>severe weather</td>\n",
       "      <td>20:00:00</td>\n",
       "      <td>heavy wind</td>\n",
       "      <td>&lt;= 3 days but &gt; 1 day</td>\n",
       "    </tr>\n",
       "    <tr>\n",
       "      <th>2</th>\n",
       "      <td>Minnesota</td>\n",
       "      <td>severe weather</td>\n",
       "      <td>04:30:00</td>\n",
       "      <td>thunderstorm</td>\n",
       "      <td>&lt;= 3 days but &gt; 1 day</td>\n",
       "    </tr>\n",
       "    <tr>\n",
       "      <th>3</th>\n",
       "      <td>Minnesota</td>\n",
       "      <td>severe weather</td>\n",
       "      <td>15:00:00</td>\n",
       "      <td>winter storm</td>\n",
       "      <td>&lt;= 3 days but &gt; 1 day</td>\n",
       "    </tr>\n",
       "    <tr>\n",
       "      <th>4</th>\n",
       "      <td>Minnesota</td>\n",
       "      <td>severe weather</td>\n",
       "      <td>20:30:00</td>\n",
       "      <td>tornadoes</td>\n",
       "      <td>&lt;= 3 days but &gt; 1 day</td>\n",
       "    </tr>\n",
       "  </tbody>\n",
       "</table>\n",
       "</div>"
      ],
      "text/plain": [
       "  u.s._state      cause.category outage.start.time cause.category.detail  \\\n",
       "0  Minnesota  intentional attack          18:38:00             vandalism   \n",
       "1  Minnesota      severe weather          20:00:00            heavy wind   \n",
       "2  Minnesota      severe weather          04:30:00          thunderstorm   \n",
       "3  Minnesota      severe weather          15:00:00          winter storm   \n",
       "4  Minnesota      severe weather          20:30:00             tornadoes   \n",
       "\n",
       "        duration.encoded  \n",
       "0               <= 1 day  \n",
       "1  <= 3 days but > 1 day  \n",
       "2  <= 3 days but > 1 day  \n",
       "3  <= 3 days but > 1 day  \n",
       "4  <= 3 days but > 1 day  "
      ]
     },
     "execution_count": 8,
     "metadata": {},
     "output_type": "execute_result"
    }
   ],
   "source": [
    "#Encode the duration time with 'encode_duration' and drop the column 'outage.duration'\n",
    "sub['duration.encoded'] = sub['outage.duration'].apply(encode_duration)\n",
    "sub = sub.drop(columns = 'outage.duration')\n",
    "sub.head()"
   ]
  },
  {
   "cell_type": "code",
   "execution_count": 9,
   "metadata": {},
   "outputs": [
    {
     "data": {
      "text/html": [
       "<div>\n",
       "<style scoped>\n",
       "    .dataframe tbody tr th:only-of-type {\n",
       "        vertical-align: middle;\n",
       "    }\n",
       "\n",
       "    .dataframe tbody tr th {\n",
       "        vertical-align: top;\n",
       "    }\n",
       "\n",
       "    .dataframe thead th {\n",
       "        text-align: right;\n",
       "    }\n",
       "</style>\n",
       "<table border=\"1\" class=\"dataframe\">\n",
       "  <thead>\n",
       "    <tr style=\"text-align: right;\">\n",
       "      <th></th>\n",
       "      <th>u.s._state</th>\n",
       "      <th>cause.category</th>\n",
       "      <th>duration.encoded</th>\n",
       "    </tr>\n",
       "  </thead>\n",
       "  <tbody>\n",
       "    <tr>\n",
       "      <th>0</th>\n",
       "      <td>Minnesota</td>\n",
       "      <td>intentional attack</td>\n",
       "      <td>&lt;= 1 day</td>\n",
       "    </tr>\n",
       "    <tr>\n",
       "      <th>1</th>\n",
       "      <td>Minnesota</td>\n",
       "      <td>severe weather</td>\n",
       "      <td>&lt;= 3 days but &gt; 1 day</td>\n",
       "    </tr>\n",
       "    <tr>\n",
       "      <th>2</th>\n",
       "      <td>Minnesota</td>\n",
       "      <td>severe weather</td>\n",
       "      <td>&lt;= 3 days but &gt; 1 day</td>\n",
       "    </tr>\n",
       "    <tr>\n",
       "      <th>3</th>\n",
       "      <td>Minnesota</td>\n",
       "      <td>severe weather</td>\n",
       "      <td>&lt;= 3 days but &gt; 1 day</td>\n",
       "    </tr>\n",
       "    <tr>\n",
       "      <th>4</th>\n",
       "      <td>Minnesota</td>\n",
       "      <td>severe weather</td>\n",
       "      <td>&lt;= 3 days but &gt; 1 day</td>\n",
       "    </tr>\n",
       "  </tbody>\n",
       "</table>\n",
       "</div>"
      ],
      "text/plain": [
       "  u.s._state      cause.category       duration.encoded\n",
       "0  Minnesota  intentional attack               <= 1 day\n",
       "1  Minnesota      severe weather  <= 3 days but > 1 day\n",
       "2  Minnesota      severe weather  <= 3 days but > 1 day\n",
       "3  Minnesota      severe weather  <= 3 days but > 1 day\n",
       "4  Minnesota      severe weather  <= 3 days but > 1 day"
      ]
     },
     "execution_count": 9,
     "metadata": {},
     "output_type": "execute_result"
    }
   ],
   "source": [
    "#Prepare the dataframe used by the baseline model\n",
    "#We want to use 'u.s._state' and 'cause.category' two features to make prediction\n",
    "sub_base = sub.copy().drop(columns = ['outage.start.time', 'cause.category.detail'])\n",
    "sub_base.head()"
   ]
  },
  {
   "cell_type": "code",
   "execution_count": 10,
   "metadata": {},
   "outputs": [
    {
     "data": {
      "text/html": [
       "<div>\n",
       "<style scoped>\n",
       "    .dataframe tbody tr th:only-of-type {\n",
       "        vertical-align: middle;\n",
       "    }\n",
       "\n",
       "    .dataframe tbody tr th {\n",
       "        vertical-align: top;\n",
       "    }\n",
       "\n",
       "    .dataframe thead th {\n",
       "        text-align: right;\n",
       "    }\n",
       "</style>\n",
       "<table border=\"1\" class=\"dataframe\">\n",
       "  <thead>\n",
       "    <tr style=\"text-align: right;\">\n",
       "      <th></th>\n",
       "      <th>u.s._state</th>\n",
       "      <th>winter_avg_temp</th>\n",
       "      <th>summer_avg_temp</th>\n",
       "    </tr>\n",
       "  </thead>\n",
       "  <tbody>\n",
       "    <tr>\n",
       "      <th>0</th>\n",
       "      <td>Alabama</td>\n",
       "      <td>8.1</td>\n",
       "      <td>25.9</td>\n",
       "    </tr>\n",
       "    <tr>\n",
       "      <th>1</th>\n",
       "      <td>Alaska</td>\n",
       "      <td>-16.3</td>\n",
       "      <td>11.3</td>\n",
       "    </tr>\n",
       "    <tr>\n",
       "      <th>2</th>\n",
       "      <td>Arizona</td>\n",
       "      <td>6.4</td>\n",
       "      <td>25.6</td>\n",
       "    </tr>\n",
       "    <tr>\n",
       "      <th>3</th>\n",
       "      <td>Arkansas</td>\n",
       "      <td>5.3</td>\n",
       "      <td>26.0</td>\n",
       "    </tr>\n",
       "    <tr>\n",
       "      <th>4</th>\n",
       "      <td>California</td>\n",
       "      <td>7.9</td>\n",
       "      <td>23.0</td>\n",
       "    </tr>\n",
       "  </tbody>\n",
       "</table>\n",
       "</div>"
      ],
      "text/plain": [
       "   u.s._state  winter_avg_temp  summer_avg_temp\n",
       "0     Alabama              8.1             25.9\n",
       "1      Alaska            -16.3             11.3\n",
       "2     Arizona              6.4             25.6\n",
       "3    Arkansas              5.3             26.0\n",
       "4  California              7.9             23.0"
      ]
     },
     "execution_count": 10,
     "metadata": {},
     "output_type": "execute_result"
    }
   ],
   "source": [
    "#Import temp_state.csv which contains the state name, the average temperature in winter by state in Celcius, \n",
    "#and the average temperature in summer by state in Celcius. We want to use these two features to help improve\n",
    "#the accuracy in the final model\n",
    "temp_df = pd.read_csv('temp_state.csv')\n",
    "temp_df.head()"
   ]
  },
  {
   "cell_type": "code",
   "execution_count": 11,
   "metadata": {},
   "outputs": [
    {
     "data": {
      "text/html": [
       "<div>\n",
       "<style scoped>\n",
       "    .dataframe tbody tr th:only-of-type {\n",
       "        vertical-align: middle;\n",
       "    }\n",
       "\n",
       "    .dataframe tbody tr th {\n",
       "        vertical-align: top;\n",
       "    }\n",
       "\n",
       "    .dataframe thead th {\n",
       "        text-align: right;\n",
       "    }\n",
       "</style>\n",
       "<table border=\"1\" class=\"dataframe\">\n",
       "  <thead>\n",
       "    <tr style=\"text-align: right;\">\n",
       "      <th></th>\n",
       "      <th>u.s._state</th>\n",
       "      <th>cause.category</th>\n",
       "      <th>outage.start.time</th>\n",
       "      <th>cause.category.detail</th>\n",
       "      <th>duration.encoded</th>\n",
       "      <th>winter_avg_temp</th>\n",
       "      <th>summer_avg_temp</th>\n",
       "    </tr>\n",
       "  </thead>\n",
       "  <tbody>\n",
       "    <tr>\n",
       "      <th>0</th>\n",
       "      <td>Minnesota</td>\n",
       "      <td>intentional attack</td>\n",
       "      <td>18:38:00</td>\n",
       "      <td>vandalism</td>\n",
       "      <td>&lt;= 1 day</td>\n",
       "      <td>-10.9</td>\n",
       "      <td>19.3</td>\n",
       "    </tr>\n",
       "    <tr>\n",
       "      <th>1</th>\n",
       "      <td>Minnesota</td>\n",
       "      <td>severe weather</td>\n",
       "      <td>20:00:00</td>\n",
       "      <td>heavy wind</td>\n",
       "      <td>&lt;= 3 days but &gt; 1 day</td>\n",
       "      <td>-10.9</td>\n",
       "      <td>19.3</td>\n",
       "    </tr>\n",
       "    <tr>\n",
       "      <th>2</th>\n",
       "      <td>Minnesota</td>\n",
       "      <td>severe weather</td>\n",
       "      <td>04:30:00</td>\n",
       "      <td>thunderstorm</td>\n",
       "      <td>&lt;= 3 days but &gt; 1 day</td>\n",
       "      <td>-10.9</td>\n",
       "      <td>19.3</td>\n",
       "    </tr>\n",
       "    <tr>\n",
       "      <th>3</th>\n",
       "      <td>Minnesota</td>\n",
       "      <td>severe weather</td>\n",
       "      <td>15:00:00</td>\n",
       "      <td>winter storm</td>\n",
       "      <td>&lt;= 3 days but &gt; 1 day</td>\n",
       "      <td>-10.9</td>\n",
       "      <td>19.3</td>\n",
       "    </tr>\n",
       "    <tr>\n",
       "      <th>4</th>\n",
       "      <td>Minnesota</td>\n",
       "      <td>severe weather</td>\n",
       "      <td>20:30:00</td>\n",
       "      <td>tornadoes</td>\n",
       "      <td>&lt;= 3 days but &gt; 1 day</td>\n",
       "      <td>-10.9</td>\n",
       "      <td>19.3</td>\n",
       "    </tr>\n",
       "  </tbody>\n",
       "</table>\n",
       "</div>"
      ],
      "text/plain": [
       "  u.s._state      cause.category outage.start.time cause.category.detail  \\\n",
       "0  Minnesota  intentional attack          18:38:00             vandalism   \n",
       "1  Minnesota      severe weather          20:00:00            heavy wind   \n",
       "2  Minnesota      severe weather          04:30:00          thunderstorm   \n",
       "3  Minnesota      severe weather          15:00:00          winter storm   \n",
       "4  Minnesota      severe weather          20:30:00             tornadoes   \n",
       "\n",
       "        duration.encoded  winter_avg_temp  summer_avg_temp  \n",
       "0               <= 1 day            -10.9             19.3  \n",
       "1  <= 3 days but > 1 day            -10.9             19.3  \n",
       "2  <= 3 days but > 1 day            -10.9             19.3  \n",
       "3  <= 3 days but > 1 day            -10.9             19.3  \n",
       "4  <= 3 days but > 1 day            -10.9             19.3  "
      ]
     },
     "execution_count": 11,
     "metadata": {},
     "output_type": "execute_result"
    }
   ],
   "source": [
    "#To improve our prediction, we want to include the outage.start.time column in the dataframe for the final model as well\n",
    "#Merge temp_df to the final_sub to add two more features: 'winter_avg_temp' and 'summer_avg_temp' \n",
    "#in the final prediction model\n",
    "sub_final = sub.copy()\n",
    "sub_final = sub_final.merge(temp_df, left_on = 'u.s._state', right_on = 'u.s._state')\n",
    "sub_final.head()"
   ]
  },
  {
   "cell_type": "markdown",
   "metadata": {},
   "source": [
    "### Baseline Model"
   ]
  },
  {
   "cell_type": "code",
   "execution_count": 12,
   "metadata": {},
   "outputs": [],
   "source": [
    "from sklearn.tree import DecisionTreeClassifier\n",
    "from sklearn.tree import DecisionTreeRegressor\n",
    "from sklearn.model_selection import train_test_split\n",
    "from sklearn.preprocessing import OneHotEncoder\n",
    "from sklearn.preprocessing import FunctionTransformer\n",
    "from sklearn.preprocessing import OneHotEncoder\n",
    "from sklearn.pipeline import Pipeline\n",
    "from sklearn.compose import ColumnTransformer\n",
    "\n",
    "from sklearn.model_selection import train_test_split\n",
    "from sklearn.model_selection import GridSearchCV\n",
    "from sklearn.tree import DecisionTreeRegressor\n",
    "from sklearn.neighbors import KNeighborsRegressor\n",
    "from sklearn.tree import DecisionTreeClassifier"
   ]
  },
  {
   "cell_type": "code",
   "execution_count": 13,
   "metadata": {},
   "outputs": [
    {
     "data": {
      "text/plain": [
       "0.6682879377431906"
      ]
     },
     "execution_count": 13,
     "metadata": {},
     "output_type": "execute_result"
    }
   ],
   "source": [
    "#Build the model by transforming 'u.s._state' and 'cause.category' columns using one hot encoder from sklearn\n",
    "#Fit the data using DecisionTreeClassifier with max_depth = 5 and find the R-square of the prediction\n",
    "prepro = ColumnTransformer(\n",
    "    transformers = [('ohe', OneHotEncoder(handle_unknown='ignore'), ['u.s._state', 'cause.category'])],\n",
    "    remainder = 'passthrough'\n",
    ")\n",
    "ppl_base = Pipeline(\n",
    "    steps = [\n",
    "        ('prepro', prepro),\n",
    "        ('dtree', DecisionTreeClassifier(max_depth = 5))\n",
    "    ]\n",
    ")\n",
    "ppl_base.fit(sub_base.drop(columns = 'duration.encoded'), sub_base['duration.encoded'])\n",
    "ppl_base.score(sub_base.drop(columns = 'duration.encoded'), sub_base['duration.encoded'])"
   ]
  },
  {
   "cell_type": "code",
   "execution_count": 14,
   "metadata": {},
   "outputs": [],
   "source": [
    "#Dictionary of hyper parameter used to find the best fit\n",
    "hypers = {\n",
    "    'dtree__max_depth':[2,3,4,5,6,7,8,9,10,11,12,13,14,15]\n",
    "}"
   ]
  },
  {
   "cell_type": "code",
   "execution_count": 15,
   "metadata": {},
   "outputs": [
    {
     "data": {
      "text/plain": [
       "({'dtree__max_depth': 14}, 0.7042801556420234, 0.6653696498054474)"
      ]
     },
     "execution_count": 15,
     "metadata": {},
     "output_type": "execute_result"
    }
   ],
   "source": [
    "#Apply GridSearchCV on the baseline model to find the best-fit hyperparameter\n",
    "X_train, X_test, y_train, y_test = train_test_split(\n",
    "    sub_base.drop(columns = 'duration.encoded'),\n",
    "    sub['duration.encoded'],)\n",
    "searcher = GridSearchCV(ppl_base, hypers, cv = 5)\n",
    "searcher.fit(X_train, y_train)\n",
    "searcher.best_params_, searcher.score(X_train, y_train), searcher.score(X_test, y_test)"
   ]
  },
  {
   "cell_type": "markdown",
   "metadata": {},
   "source": [
    "### Final Model"
   ]
  },
  {
   "cell_type": "code",
   "execution_count": 16,
   "metadata": {},
   "outputs": [],
   "source": [
    "#Helper function that converts time of a day to four periods of time\n",
    "def descretize_startTime(time):\n",
    "    #Morning 5 am to 12 pm (noon)\n",
    "    #Afternoon 12 pm to 5 pm.\n",
    "    #Evening 5 pm to 9 pm.\n",
    "    #Night 9 pm to 4 am.\n",
    "    if time.hour >= 5 and time.hour < 12:\n",
    "        return 'Morning'\n",
    "    elif time.hour >= 12 and time.hour < 17:\n",
    "        return 'Afternoon'\n",
    "    elif time.hour >= 17 and time.hour < 21:\n",
    "        return 'Evening'\n",
    "    else:\n",
    "        return 'Night'"
   ]
  },
  {
   "cell_type": "code",
   "execution_count": 17,
   "metadata": {},
   "outputs": [],
   "source": [
    "#Function that apply descretize_startTime on a series/dataframe and return a dataframe\n",
    "def change_starttime(ser):\n",
    "    df = pd.DataFrame(ser)\n",
    "    return pd.DataFrame(df['outage.start.time'].apply(descretize_startTime))\n",
    "\n",
    "#Pipeline that transform 'outage.start.time' feature using change_starttime function and OneHotEncoder\n",
    "discretize_time = Pipeline([\n",
    "        ('discretize_hour', FunctionTransformer(change_starttime)),\n",
    "        ('one_hot_encoding', OneHotEncoder())\n",
    "        ]\n",
    "    )"
   ]
  },
  {
   "cell_type": "code",
   "execution_count": 18,
   "metadata": {},
   "outputs": [],
   "source": [
    "#Function that converts summer temperature into boolean to define whether the summer is hot\n",
    "def transform_hot(temp):\n",
    "    df = pd.DataFrame(temp)\n",
    "    def check_warm(x):\n",
    "        if x >= 25:\n",
    "            return True\n",
    "        else:\n",
    "            return False\n",
    "    return pd.DataFrame(df['summer_avg_temp'].apply(check_warm))\n",
    "\n",
    "#Pipeline that transform 'summer_avg_temp' feature using transform_hot function and OneHotEncoder\n",
    "hot_changed = Pipeline([\n",
    "        ('temp_to_hot', FunctionTransformer(transform_hot)),\n",
    "        ('one_hot_encoding', OneHotEncoder())\n",
    "        ]\n",
    "    )"
   ]
  },
  {
   "cell_type": "code",
   "execution_count": 19,
   "metadata": {},
   "outputs": [],
   "source": [
    "#Function that converts winter temperature into boolean to define whether the winter is cold\n",
    "def transform_cold(temp):\n",
    "    df = pd.DataFrame(temp)\n",
    "    def check_cold(x):\n",
    "        if x <= 0 :\n",
    "            return True\n",
    "        else:\n",
    "            return False\n",
    "    return pd.DataFrame(df['winter_avg_temp'].apply(check_cold))\n",
    "\n",
    "#Pipeline that transform 'summer_avg_temp' feature using transform_cold function and OneHotEncoder\n",
    "cold_changed = Pipeline([\n",
    "        ('temp_to_cold', FunctionTransformer(transform_cold)),\n",
    "        ('one_hot_encoding', OneHotEncoder())\n",
    "        ]\n",
    "    )"
   ]
  },
  {
   "cell_type": "code",
   "execution_count": 20,
   "metadata": {},
   "outputs": [
    {
     "data": {
      "text/plain": [
       "0.7062256809338522"
      ]
     },
     "execution_count": 20,
     "metadata": {},
     "output_type": "execute_result"
    }
   ],
   "source": [
    "#Build the model by transforming 'u.s._state', 'cause.category', \n",
    "#and 'cause.category.detail' columns using one hot encoder from sklearn\n",
    "#Also include the transformed columns 'outage.start.time', 'winter_avg_temp', and 'summer_avg_temp' \n",
    "#Fit the data using DecisionTreeRegressor with max_depth = 5 and find the R-square of the prediction\n",
    "prepro = ColumnTransformer(\n",
    "    transformers = [('ohe', OneHotEncoder(handle_unknown='ignore'), ['u.s._state', 'cause.category',\n",
    "                                                                     'cause.category.detail']),\n",
    "                    ('start_time_discretize', discretize_time, ['outage.start.time']),\n",
    "                   ('cold_changed_prepro', cold_changed, ['winter_avg_temp']),\n",
    "                   ('hot_changed_prepro', hot_changed, ['summer_avg_temp'])],\n",
    "    remainder = 'passthrough'\n",
    ")\n",
    "ppl_improve = Pipeline(\n",
    "    steps = [\n",
    "        ('prepro', prepro),\n",
    "        ('dtree2', DecisionTreeClassifier(max_depth = 5))\n",
    "        \n",
    "    ]\n",
    ")\n",
    "\n",
    "ppl_improve.fit(sub_final.drop(columns = 'duration.encoded'), sub_final['duration.encoded'])\n",
    "ppl_improve.score(sub_final.drop(columns = 'duration.encoded'), sub_final['duration.encoded'])"
   ]
  },
  {
   "cell_type": "code",
   "execution_count": 21,
   "metadata": {},
   "outputs": [],
   "source": [
    "#Dictionary of hyper parameter used to find the best fit\n",
    "hypers2 = {\n",
    "    'dtree2__max_depth':[2,3,4,5,6,7,8,9,10,11,12,13,14,15],\n",
    "    'dtree2__splitter': ['best', 'random'],\n",
    "}"
   ]
  },
  {
   "cell_type": "code",
   "execution_count": 25,
   "metadata": {
    "scrolled": true
   },
   "outputs": [
    {
     "data": {
      "text/plain": [
       "({'dtree2__max_depth': 12, 'dtree2__splitter': 'random'},\n",
       " 0.814526588845655,\n",
       " 0.7042801556420234)"
      ]
     },
     "execution_count": 25,
     "metadata": {},
     "output_type": "execute_result"
    }
   ],
   "source": [
    "#Apply GridSearchCV on the baseline model to find the best-fit hyperparameter\n",
    "X2_train, X2_test, y2_train, y2_test = train_test_split(\n",
    "    sub_final.drop(columns = 'duration.encoded'), sub_final['duration.encoded'])\n",
    "searcher = GridSearchCV(ppl_improve, hypers2, cv = 5)\n",
    "searcher.fit(X2_train, y2_train)\n",
    "searcher.best_params_, searcher.score(X2_train, y2_train), searcher.score(X2_test, y2_test)"
   ]
  },
  {
   "cell_type": "markdown",
   "metadata": {},
   "source": [
    "### Fairness Analysis"
   ]
  },
  {
   "cell_type": "code",
   "execution_count": 86,
   "metadata": {},
   "outputs": [],
   "source": [
    "pred_correct = searcher.predict(X2_test) == y2_test\n",
    "#check the accuracy of each prediction in the test dataset"
   ]
  },
  {
   "cell_type": "code",
   "execution_count": 120,
   "metadata": {},
   "outputs": [
    {
     "data": {
      "text/html": [
       "<div>\n",
       "<style scoped>\n",
       "    .dataframe tbody tr th:only-of-type {\n",
       "        vertical-align: middle;\n",
       "    }\n",
       "\n",
       "    .dataframe tbody tr th {\n",
       "        vertical-align: top;\n",
       "    }\n",
       "\n",
       "    .dataframe thead th {\n",
       "        text-align: right;\n",
       "    }\n",
       "</style>\n",
       "<table border=\"1\" class=\"dataframe\">\n",
       "  <thead>\n",
       "    <tr style=\"text-align: right;\">\n",
       "      <th></th>\n",
       "      <th>outage.start.time</th>\n",
       "      <th>predict</th>\n",
       "    </tr>\n",
       "  </thead>\n",
       "  <tbody>\n",
       "    <tr>\n",
       "      <th>0</th>\n",
       "      <td>18:00:00</td>\n",
       "      <td>True</td>\n",
       "    </tr>\n",
       "    <tr>\n",
       "      <th>1</th>\n",
       "      <td>17:00:00</td>\n",
       "      <td>False</td>\n",
       "    </tr>\n",
       "    <tr>\n",
       "      <th>2</th>\n",
       "      <td>15:54:00</td>\n",
       "      <td>False</td>\n",
       "    </tr>\n",
       "    <tr>\n",
       "      <th>3</th>\n",
       "      <td>08:30:00</td>\n",
       "      <td>True</td>\n",
       "    </tr>\n",
       "    <tr>\n",
       "      <th>4</th>\n",
       "      <td>21:31:00</td>\n",
       "      <td>False</td>\n",
       "    </tr>\n",
       "  </tbody>\n",
       "</table>\n",
       "</div>"
      ],
      "text/plain": [
       "  outage.start.time  predict\n",
       "0          18:00:00     True\n",
       "1          17:00:00    False\n",
       "2          15:54:00    False\n",
       "3          08:30:00     True\n",
       "4          21:31:00    False"
      ]
     },
     "execution_count": 120,
     "metadata": {},
     "output_type": "execute_result"
    }
   ],
   "source": [
    "fair_df = pd.DataFrame(X2_test[['outage.start.time']])\n",
    "fair_df['predict'] = pred_correct\n",
    "fair_df = fair_df.reset_index(drop = True)\n",
    "#construct data for permutation test with two columns: start time in the day, if accurate\n",
    "fair_df.head()"
   ]
  },
  {
   "cell_type": "code",
   "execution_count": 121,
   "metadata": {},
   "outputs": [
    {
     "data": {
      "text/html": [
       "<div>\n",
       "<style scoped>\n",
       "    .dataframe tbody tr th:only-of-type {\n",
       "        vertical-align: middle;\n",
       "    }\n",
       "\n",
       "    .dataframe tbody tr th {\n",
       "        vertical-align: top;\n",
       "    }\n",
       "\n",
       "    .dataframe thead th {\n",
       "        text-align: right;\n",
       "    }\n",
       "</style>\n",
       "<table border=\"1\" class=\"dataframe\">\n",
       "  <thead>\n",
       "    <tr style=\"text-align: right;\">\n",
       "      <th></th>\n",
       "      <th>predict</th>\n",
       "      <th>start.afternoon</th>\n",
       "    </tr>\n",
       "  </thead>\n",
       "  <tbody>\n",
       "    <tr>\n",
       "      <th>0</th>\n",
       "      <td>True</td>\n",
       "      <td>True</td>\n",
       "    </tr>\n",
       "    <tr>\n",
       "      <th>1</th>\n",
       "      <td>False</td>\n",
       "      <td>True</td>\n",
       "    </tr>\n",
       "    <tr>\n",
       "      <th>2</th>\n",
       "      <td>False</td>\n",
       "      <td>True</td>\n",
       "    </tr>\n",
       "    <tr>\n",
       "      <th>3</th>\n",
       "      <td>True</td>\n",
       "      <td>False</td>\n",
       "    </tr>\n",
       "    <tr>\n",
       "      <th>4</th>\n",
       "      <td>False</td>\n",
       "      <td>True</td>\n",
       "    </tr>\n",
       "  </tbody>\n",
       "</table>\n",
       "</div>"
      ],
      "text/plain": [
       "   predict  start.afternoon\n",
       "0     True             True\n",
       "1    False             True\n",
       "2    False             True\n",
       "3     True            False\n",
       "4    False             True"
      ]
     },
     "execution_count": 121,
     "metadata": {},
     "output_type": "execute_result"
    }
   ],
   "source": [
    "fair_df['start.afternoon'] = fair_df['outage.start.time'].apply(\n",
    "    lambda x: str(x)).str[0:2].apply(lambda x: int(x) >= 12)\n",
    "#binary-encode each observation: true if happen in the P.M false if in A.M\n",
    "fair_df = fair_df.drop(columns = ['outage.start.time'])\n",
    "fair_df.head()"
   ]
  },
  {
   "cell_type": "code",
   "execution_count": 122,
   "metadata": {},
   "outputs": [
    {
     "data": {
      "text/plain": [
       "0.054501216545012166"
      ]
     },
     "execution_count": 122,
     "metadata": {},
     "output_type": "execute_result"
    }
   ],
   "source": [
    "gp = fair_df.groupby('start.afternoon').agg('mean')\n",
    "obs = gp['predict'][False] - gp['predict'][True]\n",
    "obs\n",
    "#observed accuracy diff: Accuracy(A.M) - Accuracy(P.M)"
   ]
  },
  {
   "cell_type": "code",
   "execution_count": 117,
   "metadata": {},
   "outputs": [
    {
     "data": {
      "text/plain": [
       "0.145"
      ]
     },
     "execution_count": 117,
     "metadata": {},
     "output_type": "execute_result"
    }
   ],
   "source": [
    "sim = []\n",
    "for _ in range(1000):\n",
    "    copy = fair_df[['predict']] \n",
    "    copy['start.afternoon'] = np.random.permutation(fair_df['start.afternoon'].values)\n",
    "    gp = copy.groupby('start.afternoon').mean()\n",
    "    s = gp['predict'][False] - gp['predict'][True]\n",
    "    sim.append(s)\n",
    "#1000 permutation\n",
    "(sim > obs).mean()\n",
    "#calculate p-value"
   ]
  }
 ],
 "metadata": {
  "kernelspec": {
   "display_name": "Python 3 (ipykernel)",
   "language": "python",
   "name": "python3"
  },
  "language_info": {
   "codemirror_mode": {
    "name": "ipython",
    "version": 3
   },
   "file_extension": ".py",
   "mimetype": "text/x-python",
   "name": "python",
   "nbconvert_exporter": "python",
   "pygments_lexer": "ipython3",
   "version": "3.8.13"
  }
 },
 "nbformat": 4,
 "nbformat_minor": 2
}
